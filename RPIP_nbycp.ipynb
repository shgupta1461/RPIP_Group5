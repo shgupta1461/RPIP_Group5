{
 "cells": [
  {
   "cell_type": "code",
   "execution_count": 29,
   "id": "beeef116",
   "metadata": {},
   "outputs": [],
   "source": [
    "import pandas as pd\n",
    "import numpy as np\n",
    "import ast\n",
    "import time"
   ]
  },
  {
   "cell_type": "code",
   "execution_count": 2,
   "id": "cd692c04",
   "metadata": {},
   "outputs": [
    {
     "data": {
      "text/html": [
       "<div>\n",
       "<style scoped>\n",
       "    .dataframe tbody tr th:only-of-type {\n",
       "        vertical-align: middle;\n",
       "    }\n",
       "\n",
       "    .dataframe tbody tr th {\n",
       "        vertical-align: top;\n",
       "    }\n",
       "\n",
       "    .dataframe thead th {\n",
       "        text-align: right;\n",
       "    }\n",
       "</style>\n",
       "<table border=\"1\" class=\"dataframe\">\n",
       "  <thead>\n",
       "    <tr style=\"text-align: right;\">\n",
       "      <th></th>\n",
       "      <th>userID</th>\n",
       "      <th>movieID</th>\n",
       "      <th>rating</th>\n",
       "      <th>title</th>\n",
       "      <th>imdbID</th>\n",
       "      <th>keywords</th>\n",
       "    </tr>\n",
       "  </thead>\n",
       "  <tbody>\n",
       "    <tr>\n",
       "      <th>0</th>\n",
       "      <td>8624</td>\n",
       "      <td>3</td>\n",
       "      <td>4.5</td>\n",
       "      <td>Grumpy Old Men</td>\n",
       "      <td>107050</td>\n",
       "      <td>old man,feud,old age,neighbor neighbor relatio...</td>\n",
       "    </tr>\n",
       "    <tr>\n",
       "      <th>1</th>\n",
       "      <td>8930</td>\n",
       "      <td>3</td>\n",
       "      <td>4.5</td>\n",
       "      <td>Grumpy Old Men</td>\n",
       "      <td>107050</td>\n",
       "      <td>old man,feud,old age,neighbor neighbor relatio...</td>\n",
       "    </tr>\n",
       "    <tr>\n",
       "      <th>2</th>\n",
       "      <td>12028</td>\n",
       "      <td>3</td>\n",
       "      <td>4.5</td>\n",
       "      <td>Grumpy Old Men</td>\n",
       "      <td>107050</td>\n",
       "      <td>old man,feud,old age,neighbor neighbor relatio...</td>\n",
       "    </tr>\n",
       "    <tr>\n",
       "      <th>3</th>\n",
       "      <td>13916</td>\n",
       "      <td>3</td>\n",
       "      <td>4.5</td>\n",
       "      <td>Grumpy Old Men</td>\n",
       "      <td>107050</td>\n",
       "      <td>old man,feud,old age,neighbor neighbor relatio...</td>\n",
       "    </tr>\n",
       "    <tr>\n",
       "      <th>4</th>\n",
       "      <td>15264</td>\n",
       "      <td>3</td>\n",
       "      <td>4.5</td>\n",
       "      <td>Grumpy Old Men</td>\n",
       "      <td>107050</td>\n",
       "      <td>old man,feud,old age,neighbor neighbor relatio...</td>\n",
       "    </tr>\n",
       "  </tbody>\n",
       "</table>\n",
       "</div>"
      ],
      "text/plain": [
       "   userID  movieID  rating           title  imdbID  \\\n",
       "0    8624        3     4.5  Grumpy Old Men  107050   \n",
       "1    8930        3     4.5  Grumpy Old Men  107050   \n",
       "2   12028        3     4.5  Grumpy Old Men  107050   \n",
       "3   13916        3     4.5  Grumpy Old Men  107050   \n",
       "4   15264        3     4.5  Grumpy Old Men  107050   \n",
       "\n",
       "                                            keywords  \n",
       "0  old man,feud,old age,neighbor neighbor relatio...  \n",
       "1  old man,feud,old age,neighbor neighbor relatio...  \n",
       "2  old man,feud,old age,neighbor neighbor relatio...  \n",
       "3  old man,feud,old age,neighbor neighbor relatio...  \n",
       "4  old man,feud,old age,neighbor neighbor relatio...  "
      ]
     },
     "execution_count": 2,
     "metadata": {},
     "output_type": "execute_result"
    }
   ],
   "source": [
    "df = pd.read_csv(\"D:/DOWNLOADS/finalDataset.csv\")\n",
    "df.head()"
   ]
  },
  {
   "cell_type": "code",
   "execution_count": 3,
   "id": "bca08311",
   "metadata": {},
   "outputs": [
    {
     "data": {
      "text/html": [
       "<div>\n",
       "<style scoped>\n",
       "    .dataframe tbody tr th:only-of-type {\n",
       "        vertical-align: middle;\n",
       "    }\n",
       "\n",
       "    .dataframe tbody tr th {\n",
       "        vertical-align: top;\n",
       "    }\n",
       "\n",
       "    .dataframe thead th {\n",
       "        text-align: right;\n",
       "    }\n",
       "</style>\n",
       "<table border=\"1\" class=\"dataframe\">\n",
       "  <thead>\n",
       "    <tr style=\"text-align: right;\">\n",
       "      <th></th>\n",
       "      <th>Unnamed: 0</th>\n",
       "      <th>keys</th>\n",
       "      <th>values</th>\n",
       "    </tr>\n",
       "  </thead>\n",
       "  <tbody>\n",
       "    <tr>\n",
       "      <th>0</th>\n",
       "      <td>0</td>\n",
       "      <td>Grumpy Old Men</td>\n",
       "      <td>['Kind Hearts and Coronets', 'Song of the Sout...</td>\n",
       "    </tr>\n",
       "    <tr>\n",
       "      <th>1</th>\n",
       "      <td>1</td>\n",
       "      <td>Twelve Monkeys</td>\n",
       "      <td>['Breach', 'Outbreak', 'Meet the Robinsons', '...</td>\n",
       "    </tr>\n",
       "    <tr>\n",
       "      <th>2</th>\n",
       "      <td>2</td>\n",
       "      <td>Braveheart</td>\n",
       "      <td>['Local Hero', 'The Water Horse', 'Beverly Hil...</td>\n",
       "    </tr>\n",
       "    <tr>\n",
       "      <th>3</th>\n",
       "      <td>3</td>\n",
       "      <td>Congo</td>\n",
       "      <td>['Elektra', 'The Hand That Rocks the Cradle', ...</td>\n",
       "    </tr>\n",
       "    <tr>\n",
       "      <th>4</th>\n",
       "      <td>4</td>\n",
       "      <td>Desperado</td>\n",
       "      <td>['The Matrix Revolutions', 'Saw III', 'Sånger ...</td>\n",
       "    </tr>\n",
       "  </tbody>\n",
       "</table>\n",
       "</div>"
      ],
      "text/plain": [
       "   Unnamed: 0            keys  \\\n",
       "0           0  Grumpy Old Men   \n",
       "1           1  Twelve Monkeys   \n",
       "2           2      Braveheart   \n",
       "3           3           Congo   \n",
       "4           4       Desperado   \n",
       "\n",
       "                                              values  \n",
       "0  ['Kind Hearts and Coronets', 'Song of the Sout...  \n",
       "1  ['Breach', 'Outbreak', 'Meet the Robinsons', '...  \n",
       "2  ['Local Hero', 'The Water Horse', 'Beverly Hil...  \n",
       "3  ['Elektra', 'The Hand That Rocks the Cradle', ...  \n",
       "4  ['The Matrix Revolutions', 'Saw III', 'Sånger ...  "
      ]
     },
     "execution_count": 3,
     "metadata": {},
     "output_type": "execute_result"
    }
   ],
   "source": [
    "n_data = pd.read_csv(\"D:/DOWNLOADS/movieNeighbors.csv\")\n",
    "n_data.head()"
   ]
  },
  {
   "cell_type": "code",
   "execution_count": 39,
   "id": "96ca1d3a",
   "metadata": {},
   "outputs": [],
   "source": [
    "def jaccard_similarity(set1, set2):\n",
    "    intersection = len(set1.intersection(set2))\n",
    "    union = len(set1.union(set2))\n",
    "    return intersection / union if union != 0 else 0\n",
    "\n",
    "def wscore(i, S, L, R):\n",
    "    eta = 0.5\n",
    "    overlap_S = woverlap(i, S, R)\n",
    "    overlap_L_minus_S = woverlap(i, set(L) - set(S), R)\n",
    "    return (1 - eta) * overlap_S + eta * overlap_L_minus_S\n",
    "\n",
    "def woverlap(i, X, R):\n",
    "    X = set(X)\n",
    "    covered = set(item for sublist in [Ni(j) for j in R] for item in sublist)\n",
    "    numerator = 2 * len((Ni(i) - covered).intersection(X))\n",
    "    num=0\n",
    "    for item in (Ni(i) - covered).intersection(X):\n",
    "        try:\n",
    "            j = I.index(item)\n",
    "            num=num+w[j]\n",
    "        except:\n",
    "            num=0\n",
    "    denominator = len(Ni(i) - covered) + len(X - covered)\n",
    "    return 2*num / denominator if denominator > 0 else 0\n",
    "\n",
    "def update(s, R, pi = \"Open\"):\n",
    "    if(pi==\"Open\"):\n",
    "        S = Ni(s)\n",
    "        return S\n",
    "    else:\n",
    "        return {}\n",
    "    \n",
    "def argmax(Candidates, S, L, R):\n",
    "    d=[]\n",
    "    for i in Candidates:\n",
    "        d.append([i,wscore(i, S, L, R)])\n",
    "    d = sorted(d, key = lambda x: int(x[1]))\n",
    "    i_star = d[0][0]\n",
    "    return i_star"
   ]
  },
  {
   "cell_type": "code",
   "execution_count": 16,
   "id": "a5d46792",
   "metadata": {},
   "outputs": [
    {
     "name": "stdout",
     "output_type": "stream",
     "text": [
      "(95, 6)\n"
     ]
    }
   ],
   "source": [
    "user_profile = df[df['userID']==8624]\n",
    "keywords = df['keywords'].unique()\n",
    "movies = df['title'].unique()\n",
    "print(user_profile.shape)\n",
    "seen = user_profile['title'].tolist()\n",
    "L=[]\n",
    "D=dict()\n",
    "c=0\n",
    "for i in user_profile.values:\n",
    "    c=c+1\n",
    "    #print(\"COUNT:\",c)\n",
    "    li=[]\n",
    "    mi = i[3]\n",
    "    try:\n",
    "        tag = i[-1].split(',')\n",
    "        tag = set(tag)\n",
    "        for k in keywords:\n",
    "            try:\n",
    "                tm = set(k.split(','))\n",
    "                sim = jaccard_similarity(tag, tm)\n",
    "                #print(tag, tm)\n",
    "                if(sim>0):\n",
    "                    li.append(k)\n",
    "                    L.append(k)\n",
    "            except:\n",
    "                #print(\"No tag found\")\n",
    "                continue\n",
    "        D[mi] = li\n",
    "    except:\n",
    "        continue\n",
    "         \n",
    "N=dict()\n",
    "L=[]\n",
    "for i in D:\n",
    "    li=[]\n",
    "    for k in D[i]:\n",
    "        mov = df[df['keywords']==k]['title'].tolist()\n",
    "        mov = list(set(mov))\n",
    "        for m in mov:\n",
    "            if(m!=i and m not in seen):\n",
    "                li.append(m)\n",
    "                L.append(m)\n",
    "    N[i] = li\n",
    "L = list(set(L))   "
   ]
  },
  {
   "cell_type": "code",
   "execution_count": 17,
   "id": "087e1579",
   "metadata": {},
   "outputs": [
    {
     "data": {
      "text/plain": [
       "['Grumpy Old Men',\n",
       " 'La cité des enfants perdus',\n",
       " 'The Shawshank Redemption',\n",
       " 'Four Weddings and a Funeral',\n",
       " 'Mystery Science Theater 3000: The Movie',\n",
       " 'Wallace and Gromit in A Close Shave',\n",
       " 'A Fish Called Wanda',\n",
       " 'Life of Brian',\n",
       " 'Monty Python and the Holy Grail',\n",
       " 'Wallace & Gromit in The Wrong Trousers']"
      ]
     },
     "execution_count": 17,
     "metadata": {},
     "output_type": "execute_result"
    }
   ],
   "source": [
    "up = user_profile['title'].tolist()\n",
    "up[:10]"
   ]
  },
  {
   "cell_type": "code",
   "execution_count": 18,
   "id": "0a0031ef",
   "metadata": {},
   "outputs": [
    {
     "data": {
      "text/plain": [
       "6386"
      ]
     },
     "execution_count": 18,
     "metadata": {},
     "output_type": "execute_result"
    }
   ],
   "source": [
    "I = list(set(movies) - set(up))\n",
    "len(I)"
   ]
  },
  {
   "cell_type": "code",
   "execution_count": 19,
   "id": "d75644ab",
   "metadata": {},
   "outputs": [
    {
     "data": {
      "text/plain": [
       "6479"
      ]
     },
     "execution_count": 19,
     "metadata": {},
     "output_type": "execute_result"
    }
   ],
   "source": [
    "len(movies)"
   ]
  },
  {
   "cell_type": "code",
   "execution_count": 20,
   "id": "0a405f58",
   "metadata": {},
   "outputs": [],
   "source": [
    "def Nj(i):\n",
    "    ke=[]\n",
    "    try:\n",
    "        tag = set(df[df['title']==i]['keywords'].tolist()[0].split(','))\n",
    "    except:\n",
    "        return set([])\n",
    "    for k in keywords:\n",
    "        try:\n",
    "            tm = set(k.split(','))\n",
    "            sim = jaccard_similarity(tag, tm)\n",
    "            if(sim>0):\n",
    "                ke.append(k)\n",
    "        except:\n",
    "            continue\n",
    "    ke = list(set(ke))\n",
    "    li = []\n",
    "    for k in ke:\n",
    "        m = df[df['keywords']==k]['title'].tolist()\n",
    "        li = li + m \n",
    "    return set(li)\n",
    "        \n",
    "def Ni(i):\n",
    "    li = n_data[n_data['keys']==i]['values'].tolist()[0]\n",
    "    li = ast.literal_eval(li)\n",
    "    return set(li)"
   ]
  },
  {
   "cell_type": "code",
   "execution_count": 33,
   "id": "c70552d6",
   "metadata": {},
   "outputs": [],
   "source": [
    "def Reweigh(s, R, rho=\"Direc\"):\n",
    "    \n",
    "    for i in range(len(I)):\n",
    "        Cij = 0\n",
    "        for j in R:\n",
    "            Cij = Cij + C(i,j)\n",
    "        dwi = C(i,s) - Cij\n",
    "        w[i] = w[i] + dwi\n",
    "def C(i,j):\n",
    "    if(i in Ni(j)):\n",
    "        return 1\n",
    "    else:\n",
    "        return 0"
   ]
  },
  {
   "cell_type": "code",
   "execution_count": 34,
   "id": "2543f2b4",
   "metadata": {},
   "outputs": [],
   "source": [
    "w=[]\n",
    "for i in range(len(I)):\n",
    "    w.append(0)\n",
    "def nbycp(s, L, rho = \"Direc\", n=5):\n",
    "    S = N[s]\n",
    "    Tabu = set([])\n",
    "    Reweigh(s, set([]), rho)\n",
    "    while(len(S)>n):\n",
    "        R = recommend(S, L, n)\n",
    "        print(R)\n",
    "        time.sleep(2)\n",
    "        print(\"Liked Item: \")\n",
    "        s = input()\n",
    "        print(\"Stop/Continue: \")\n",
    "        a = input()\n",
    "        if(a==\"Stop\"):\n",
    "            return s\n",
    "        R = R - set(s)\n",
    "        S = update(s, R, pi=\"Open\")\n",
    "        Reweigh(s, R, rho)\n",
    "        Tabu = Tabu.union(R)\n",
    "        S = S - Tabu"
   ]
  },
  {
   "cell_type": "code",
   "execution_count": 35,
   "id": "efb69672",
   "metadata": {},
   "outputs": [],
   "source": [
    "def recommend(S, L, n=2):\n",
    "    Candidates = set(S)\n",
    "    R = set([])\n",
    "    while len(R) < n and len(Candidates) > 0:\n",
    "        #print(R)\n",
    "        i_star = argmax(Candidates, S, L, R)\n",
    "        #print(i_star)\n",
    "        R.add(i_star)\n",
    "        Candidates.remove(i_star)\n",
    "        #print(Candidates)\n",
    "    return R"
   ]
  },
  {
   "cell_type": "code",
   "execution_count": 40,
   "id": "1c1003f7",
   "metadata": {},
   "outputs": [
    {
     "name": "stdout",
     "output_type": "stream",
     "text": [
      "{'Nothing But Trouble', 'Richard III', 'Key Largo', 'Sgt. Bilko', \"Widows' Peak\"}\n",
      "Liked Item: \n",
      "Richard III\n",
      "Stop/Continue: \n",
      "Continue\n",
      "{'Henry V', 'Les triplettes de Belleville', 'Finding Neverland', 'Balto', 'Slaughterhouse-Five'}\n",
      "Liked Item: \n",
      "Henry V\n",
      "Stop/Continue: \n",
      "Stop\n"
     ]
    },
    {
     "data": {
      "text/plain": [
       "'Henry V'"
      ]
     },
     "execution_count": 40,
     "metadata": {},
     "output_type": "execute_result"
    }
   ],
   "source": [
    "nbycp(\"Grumpy Old Men\", L, n=5)"
   ]
  },
  {
   "cell_type": "code",
   "execution_count": null,
   "id": "563fdd7d",
   "metadata": {},
   "outputs": [],
   "source": []
  },
  {
   "cell_type": "code",
   "execution_count": null,
   "id": "918e0616",
   "metadata": {},
   "outputs": [],
   "source": []
  }
 ],
 "metadata": {
  "kernelspec": {
   "display_name": "Python 3 (ipykernel)",
   "language": "python",
   "name": "python3"
  },
  "language_info": {
   "codemirror_mode": {
    "name": "ipython",
    "version": 3
   },
   "file_extension": ".py",
   "mimetype": "text/x-python",
   "name": "python",
   "nbconvert_exporter": "python",
   "pygments_lexer": "ipython3",
   "version": "3.7.4"
  }
 },
 "nbformat": 4,
 "nbformat_minor": 5
}
